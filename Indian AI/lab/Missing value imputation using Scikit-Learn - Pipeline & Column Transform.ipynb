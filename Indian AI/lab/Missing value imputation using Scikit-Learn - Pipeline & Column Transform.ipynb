{
  "nbformat": 4,
  "nbformat_minor": 0,
  "metadata": {
    "kernelspec": {
      "display_name": "Python 3",
      "language": "python",
      "name": "python3"
    },
    "language_info": {
      "codemirror_mode": {
        "name": "ipython",
        "version": 3
      },
      "file_extension": ".py",
      "mimetype": "text/x-python",
      "name": "python",
      "nbconvert_exporter": "python",
      "pygments_lexer": "ipython3",
      "version": "3.7.6"
    },
    "toc": {
      "base_numbering": 1,
      "nav_menu": {},
      "number_sections": true,
      "sideBar": true,
      "skip_h1_title": false,
      "title_cell": "Table of Contents",
      "title_sidebar": "Contents",
      "toc_cell": false,
      "toc_position": {},
      "toc_section_display": true,
      "toc_window_display": false
    },
    "varInspector": {
      "cols": {
        "lenName": 16,
        "lenType": 16,
        "lenVar": 40
      },
      "kernels_config": {
        "python": {
          "delete_cmd_postfix": "",
          "delete_cmd_prefix": "del ",
          "library": "var_list.py",
          "varRefreshCmd": "print(var_dic_list())"
        },
        "r": {
          "delete_cmd_postfix": ") ",
          "delete_cmd_prefix": "rm(",
          "library": "var_list.r",
          "varRefreshCmd": "cat(var_dic_list()) "
        }
      },
      "types_to_exclude": [
        "module",
        "function",
        "builtin_function_or_method",
        "instance",
        "_Feature"
      ],
      "window_display": false
    },
    "colab": {
      "name": "Missing value imputation using Scikit-Learn - diff str for diff var part-7.ipynb",
      "provenance": [],
      "include_colab_link": true
    }
  },
  "cells": [
    {
      "cell_type": "markdown",
      "metadata": {
        "id": "view-in-github",
        "colab_type": "text"
      },
      "source": [
        "<a href=\"https://colab.research.google.com/github/subir2210/Dataset/blob/master/CODE/Indian%20AI%20-%20Data%20Preprocessing/lab/Missing%20value%20imputation%20using%20Scikit-Learn%20-%20Pipeline%20%26%20Column%20Transform.ipynb\" target=\"_parent\"><img src=\"https://colab.research.google.com/assets/colab-badge.svg\" alt=\"Open In Colab\"/></a>"
      ]
    },
    {
      "cell_type": "markdown",
      "metadata": {
        "id": "WPnumyqkaM0N"
      },
      "source": [
        "This source code created by IndianAIProduction.com team\n",
        "https:\\\\www.IndianAIProduction.com\\handling-missing-Values-data-cleaning\n",
        "\n",
        "Video on \n",
        "Missing Value Imputation - using scikit-learnn part-6:https://youtu.be/sRk3GoyJPtU\n",
        "Missing Value Imputation - using scikit-learnn part-7: https://youtu.be/sbk1mzLquz4\n",
        "        \n",
        "\n",
        "for video tutorial visit our youtube channel\n",
        "www.youtube.com\\IndianAIProduction\n",
        "\n",
        "About Scikit-Learn:\n",
        "-------------------\n",
        "sklearn.impute.SimpleImputer: https://scikit-learn.org/stable/modules/generated/sklearn.impute.SimpleImputer.html\n",
        "sklearn.pipeline.Pipeline: https://scikit-learn.org/stable/modules/generated/sklearn.pipeline.Pipeline.html\n",
        "sklearn.compose.ColumnTransformer: https://scikit-learn.org/stable/modules/generated/sklearn.compose.ColumnTransformer.html    "
      ]
    },
    {
      "cell_type": "markdown",
      "metadata": {
        "id": "jYtE4s_VaM0Q"
      },
      "source": [
        "# Data Cleaning\n",
        "## Missing value imputation using Scikit-Learn\n",
        "### Different strategy for different variables(Numerical & Categorical) with Scikit-Learn"
      ]
    },
    {
      "cell_type": "code",
      "metadata": {
        "id": "BTkqZ5EEaM0R"
      },
      "source": [
        "import numpy as np \n",
        "import pandas as pd \n",
        "from sklearn.impute import SimpleImputer\n",
        "from sklearn.compose import ColumnTransformer\n",
        "from sklearn.pipeline import Pipeline"
      ],
      "execution_count": null,
      "outputs": []
    }
  ]
}